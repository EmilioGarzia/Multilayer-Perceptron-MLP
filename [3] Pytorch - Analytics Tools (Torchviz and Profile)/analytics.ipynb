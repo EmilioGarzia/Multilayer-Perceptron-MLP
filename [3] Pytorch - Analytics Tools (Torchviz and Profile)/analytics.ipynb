{
 "cells": [
  {
   "cell_type": "markdown",
   "metadata": {},
   "source": [
    "# Pytorch beginner course: Analytics tools (Torchviz and Profiler)\n",
    "## Summary\n",
    "\n",
    "- [What is Torchviz?](#what-is-torchivz)\n",
    "- [How to install torchviz](#how-to-install-torchviz)\n",
    "- [How to use torchviz](#how-to-use-torchviz)\n",
    "- [Autograd profiler](#autograd-profiler)\n",
    "- [References](#references)\n",
    "- [Author](#author)\n",
    "\n",
    "## What is Torchviz?\n",
    "\n",
    "In the previous lecture we saw that pytorch can memorize all operations that we can compute on our model or on our tensors, all operations are stored in *graph* called *computational graph* and we can represent this graph using a `torchviz` module, as we can see with this module we can specify some information about the desired computational graph.\n",
    "\n",
    "So the `torchviz` module is the first tool that we will see in this notebook and we will use it to render an image *(or other kind of file)* that represent a computational graph made by our operations.\n",
    "\n",
    "## How to install torchviz\n",
    "\n",
    "To work correctly `torchviz` require another framework called `graphviz` that we can download on web site [Graphviz download](https://graphviz.org/download/).\n",
    "\n",
    "On Unix-Like and macOS system you can install `graphviz` directly from terminal:\n",
    "\n",
    "```bash\n",
    "# Debian distribution\n",
    "sudo apt install graphviz\n",
    "```\n",
    "\n",
    "```bash\n",
    "# macOS terminal\n",
    "brew install graphviz\n",
    "```\n",
    "\n",
    "So after then we install the `graphviz` we can install the `torchviz` module using the `pip` package manager with below command:\n",
    "\n",
    "```bash\n",
    "pip install torchviz\n",
    "```\n",
    "\n",
    "## How to use Torchviz\n",
    "\n",
    "test"
   ]
  },
  {
   "cell_type": "markdown",
   "metadata": {},
   "source": [
    "## Autograd profiler\n",
    "\n",
    "test"
   ]
  },
  {
   "cell_type": "code",
   "execution_count": 8,
   "metadata": {},
   "outputs": [
    {
     "name": "stdout",
     "output_type": "stream",
     "text": [
      "-------------------------------------------------------  ------------  ------------  ------------  ------------  ------------  ------------  \n",
      "                                                   Name    Self CPU %      Self CPU   CPU total %     CPU total  CPU time avg    # of Calls  \n",
      "-------------------------------------------------------  ------------  ------------  ------------  ------------  ------------  ------------  \n",
      "                                             aten::mean        11.43%      12.000us        41.90%      44.000us      44.000us             1  \n",
      "                                              aten::sum        11.43%      12.000us        14.29%      15.000us      15.000us             1  \n",
      "                                       aten::as_strided         1.90%       2.000us         1.90%       2.000us       2.000us             1  \n",
      "                                            aten::fill_         0.95%       1.000us         0.95%       1.000us       1.000us             1  \n",
      "                                             aten::div_         9.52%      10.000us        16.19%      17.000us      17.000us             1  \n",
      "                                               aten::to         0.95%       1.000us         6.67%       7.000us       7.000us             1  \n",
      "                                         aten::_to_copy         2.86%       3.000us         5.71%       6.000us       6.000us             1  \n",
      "                                    aten::empty_strided         0.95%       1.000us         0.95%       1.000us       1.000us             1  \n",
      "                                            aten::copy_         1.90%       2.000us         1.90%       2.000us       2.000us             1  \n",
      "                                        aten::ones_like         2.86%       3.000us         6.67%       7.000us       7.000us             1  \n",
      "                                       aten::empty_like         2.86%       3.000us         3.81%       4.000us       4.000us             1  \n",
      "                                    aten::empty_strided         0.95%       1.000us         0.95%       1.000us       1.000us             1  \n",
      "                                            aten::fill_         0.00%       0.000us         0.00%       0.000us       0.000us             1  \n",
      "     autograd::engine::evaluate_function: MeanBackward0         2.86%       3.000us        27.62%      29.000us      29.000us             1  \n",
      "                                          MeanBackward0         4.76%       5.000us        24.76%      26.000us      26.000us             1  \n",
      "                                           aten::expand         6.67%       7.000us         6.67%       7.000us       7.000us             1  \n",
      "                                       aten::as_strided         0.00%       0.000us         0.00%       0.000us       0.000us             1  \n",
      "                                               aten::to         0.00%       0.000us         0.00%       0.000us       0.000us             1  \n",
      "                                              aten::div         7.62%       8.000us        13.33%      14.000us      14.000us             1  \n",
      "                                               aten::to         1.90%       2.000us         5.71%       6.000us       6.000us             1  \n",
      "                                         aten::_to_copy         0.95%       1.000us         3.81%       4.000us       4.000us             1  \n",
      "                                    aten::empty_strided         0.95%       1.000us         0.95%       1.000us       1.000us             1  \n",
      "                                            aten::copy_         1.90%       2.000us         1.90%       2.000us       2.000us             1  \n",
      "      autograd::engine::evaluate_function: MulBackward0         1.90%       2.000us        12.38%      13.000us      13.000us             1  \n",
      "                                           MulBackward0         1.90%       2.000us        10.48%      11.000us      11.000us             1  \n",
      "                                              aten::mul         3.81%       4.000us         8.57%       9.000us       9.000us             1  \n",
      "                                               aten::to         0.95%       1.000us         4.76%       5.000us       5.000us             1  \n",
      "                                         aten::_to_copy         2.86%       3.000us         3.81%       4.000us       4.000us             1  \n",
      "                                    aten::empty_strided         0.00%       0.000us         0.00%       0.000us       0.000us             1  \n",
      "                                            aten::copy_         0.95%       1.000us         0.95%       1.000us       1.000us             1  \n",
      "autograd::engine::evaluate_function: struct torch::a...         3.81%       4.000us        11.43%      12.000us      12.000us             1  \n",
      "                 struct torch::autograd::AccumulateGrad         3.81%       4.000us         7.62%       8.000us       8.000us             1  \n",
      "                                           aten::detach         0.95%       1.000us         3.81%       4.000us       4.000us             1  \n",
      "                                                 detach         2.86%       3.000us         2.86%       3.000us       3.000us             1  \n",
      "-------------------------------------------------------  ------------  ------------  ------------  ------------  ------------  ------------  \n",
      "Self CPU time total: 105.000us\n",
      "\n"
     ]
    }
   ],
   "source": [
    "import torch\n",
    "import torch.autograd.profiler as profiler\n",
    "\n",
    "# Initialize a tensor\n",
    "x = torch.ones(2, requires_grad=True)\n",
    "\n",
    "# define output tensor made by a multiplication by 2\n",
    "z = x*2\n",
    "\n",
    "# Profile the computational graph\n",
    "with profiler.profile() as profiling:\n",
    "    # reduce z and apply backward\n",
    "    z = z.mean()\n",
    "    z.backward()\n",
    "\n",
    "# Print the report of our profiling\n",
    "print(profiling)\n"
   ]
  },
  {
   "cell_type": "markdown",
   "metadata": {},
   "source": [
    "## References\n",
    "\n",
    "[Pytorch documentation](https://pytorch.org/docs/stable/index.html)\n",
    "\n",
    "[Torchviz GitHub](https://github.com/szagoruyko/pytorchviz)\n",
    "\n",
    "[Graphviz download page](https://graphviz.org/download/)\n",
    "\n",
    "## Author\n",
    "\n",
    "Emilio Garzia, 2024\n",
    "\n",
    "[Github](https://github.com/EmilioGarzia)\n",
    "\n",
    "[Linkedin](https://www.linkedin.com/in/emilio-garzia-58a934294/)"
   ]
  }
 ],
 "metadata": {
  "kernelspec": {
   "display_name": "base",
   "language": "python",
   "name": "python3"
  },
  "language_info": {
   "codemirror_mode": {
    "name": "ipython",
    "version": 3
   },
   "file_extension": ".py",
   "mimetype": "text/x-python",
   "name": "python",
   "nbconvert_exporter": "python",
   "pygments_lexer": "ipython3",
   "version": "3.10.11"
  }
 },
 "nbformat": 4,
 "nbformat_minor": 2
}
