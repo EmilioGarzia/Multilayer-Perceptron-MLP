{
 "cells": [
  {
   "cell_type": "markdown",
   "metadata": {},
   "source": [
    "# Pytorch beginner course: Backpropagation\n",
    "\n",
    "## Summary\n",
    "\n",
    "- [Simple training]()\n",
    "- [How to install torchviz](#how-to-install-torchviz)\n",
    "- [How to use torchviz](#how-to-use-torchviz)\n",
    "- [Autograd profiler](#autograd-profiler)\n",
    "- [References](#references)\n",
    "- [Author](#author)\n",
    "\n",
    "## Simple training\n",
    "\n",
    "\n",
    "## Glossary of the used tools\n",
    "\n",
    "### Methods\n",
    "\n",
    "- `torch.autograd.backward()`\n",
    "- `torch.autograd.requires_grad_()`\n",
    "- `torch.autograd.no_grad()`\n",
    "\n",
    "### Properties\n",
    "\n",
    "- `torch.autograd.grad`\n",
    "- `torch.autograd.requires_grad`\n",
    "- `torch.autograd.grad_fn`\n",
    "\n",
    "## References\n",
    "\n",
    "[Pytorch documentation](https://pytorch.org/docs/stable/index.html)\n",
    "\n",
    "## Author\n",
    "\n",
    "Emilio Garzia, 2024\n",
    "\n",
    "[Github](https://github.com/EmilioGarzia)\n",
    "\n",
    "[Linkedin](https://www.linkedin.com/in/emilio-garzia-58a934294/)"
   ]
  }
 ],
 "metadata": {
  "language_info": {
   "name": "python"
  }
 },
 "nbformat": 4,
 "nbformat_minor": 2
}
